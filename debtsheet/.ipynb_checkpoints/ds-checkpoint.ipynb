{
 "cells": [
  {
   "cell_type": "markdown",
   "id": "3f7b4775-d3b4-48bb-927a-3f4371c44ffa",
   "metadata": {},
   "source": [
    "Things for tomorrow\n",
    "- look into gathering news & reading statements\n",
    "- build an executable"
   ]
  },
  {
   "cell_type": "markdown",
   "id": "36b51237-f086-4af3-9059-752e4f657aed",
   "metadata": {},
   "source": [
    "from debtsheet import *"
   ]
  },
  {
   "cell_type": "code",
   "execution_count": 1,
   "id": "536e4116-73c3-4552-a8a0-aad57a90fef7",
   "metadata": {},
   "outputs": [],
   "source": [
    "from debtsheet import *"
   ]
  },
  {
   "cell_type": "code",
   "execution_count": 2,
   "id": "2cfe8e36-f2ca-40c6-a7fc-4b8a3a6da316",
   "metadata": {},
   "outputs": [
    {
     "name": "stderr",
     "output_type": "stream",
     "text": [
      "/Users/bennysun/opt/anaconda3/lib/python3.9/site-packages/openpyxl/worksheet/_reader.py:312: UserWarning: Unknown extension is not supported and will be removed\n",
      "  warn(msg)\n",
      "/Users/bennysun/debtsheet/debtsheet/company_data.py:26: SettingWithCopyWarning: \n",
      "A value is trying to be set on a copy of a slice from a DataFrame\n",
      "\n",
      "See the caveats in the documentation: https://pandas.pydata.org/pandas-docs/stable/user_guide/indexing.html#returning-a-view-versus-a-copy\n",
      "  df[\"Date\"][i] = str(datetime.strptime\n",
      "/Users/bennysun/opt/anaconda3/lib/python3.9/site-packages/openpyxl/comments/shape_writer.py:74: FutureWarning: The behavior of this method will change in future versions. Use specific 'len(elem)' or 'elem is not None' test instead.\n",
      "  if not shape_types:\n"
     ]
    },
    {
     "data": {
      "text/plain": [
       "<debtsheet.DebtSheet at 0x7fd5186a2e50>"
      ]
     },
     "execution_count": 2,
     "metadata": {},
     "output_type": "execute_result"
    }
   ],
   "source": [
    "DebtSheet(\"nptx\")"
   ]
  },
  {
   "cell_type": "code",
   "execution_count": null,
   "id": "27698109-5dfd-4a0f-a3d1-b010996347f6",
   "metadata": {},
   "outputs": [],
   "source": [
    "nptx."
   ]
  }
 ],
 "metadata": {
  "kernelspec": {
   "display_name": "Python 3 (ipykernel)",
   "language": "python",
   "name": "python3"
  },
  "language_info": {
   "codemirror_mode": {
    "name": "ipython",
    "version": 3
   },
   "file_extension": ".py",
   "mimetype": "text/x-python",
   "name": "python",
   "nbconvert_exporter": "python",
   "pygments_lexer": "ipython3",
   "version": "3.9.7"
  }
 },
 "nbformat": 4,
 "nbformat_minor": 5
}
