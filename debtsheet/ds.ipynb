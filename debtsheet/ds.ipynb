{
 "cells": [
  {
   "cell_type": "markdown",
   "id": "3f7b4775-d3b4-48bb-927a-3f4371c44ffa",
   "metadata": {},
   "source": [
    "Things for tomorrow\n",
    "- look into gathering news & reading statements\n",
    "- build an executable"
   ]
  },
  {
   "cell_type": "markdown",
   "id": "36b51237-f086-4af3-9059-752e4f657aed",
   "metadata": {},
   "source": [
    "from debtsheet import *"
   ]
  },
  {
   "cell_type": "code",
   "execution_count": 1,
   "id": "fcf329be-bfc8-4afc-94e9-172943c7d102",
   "metadata": {},
   "outputs": [],
   "source": [
    "from debtsheet import *"
   ]
  },
  {
   "cell_type": "code",
   "execution_count": 3,
   "id": "031d1143-584f-436a-9d04-eca5a0500719",
   "metadata": {},
   "outputs": [],
   "source": [
    "FANG = [\"AAPL\", \"MSFT\", \"FB\", \"GOOG\"]\n",
    "for i in FANG:\n",
    "    DebtSheet(i)"
   ]
  },
  {
   "cell_type": "code",
   "execution_count": null,
   "id": "01f47bc5-a644-448f-b264-6844a2895174",
   "metadata": {},
   "outputs": [],
   "source": [
    "DebtSheet(\"ms\")"
   ]
  }
 ],
 "metadata": {
  "kernelspec": {
   "display_name": "Python 3 (ipykernel)",
   "language": "python",
   "name": "python3"
  },
  "language_info": {
   "codemirror_mode": {
    "name": "ipython",
    "version": 3
   },
   "file_extension": ".py",
   "mimetype": "text/x-python",
   "name": "python",
   "nbconvert_exporter": "python",
   "pygments_lexer": "ipython3",
   "version": "3.9.7"
  }
 },
 "nbformat": 4,
 "nbformat_minor": 5
}
